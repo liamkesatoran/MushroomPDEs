{
 "cells": [
  {
   "cell_type": "code",
   "execution_count": 1,
   "metadata": {},
   "outputs": [
    {
     "name": "stdout",
     "output_type": "stream",
     "text": [
      "0 0.0844886302947998\n",
      "25 1.3276336193084717\n",
      "50 2.4469804763793945\n",
      "75 3.653287649154663\n",
      "100 4.518517017364502\n",
      "125 5.344592571258545\n",
      "150 6.0457587242126465\n",
      "175 6.743497848510742\n",
      "200 7.480876922607422\n",
      "225 8.178957223892212\n",
      "250 8.879759311676025\n",
      "275 9.577724695205688\n",
      "300 10.308774948120117\n",
      "325 11.00816798210144\n",
      "350 11.702251434326172\n",
      "375 12.408978700637817\n",
      "400 13.130298376083374\n",
      "425 13.841121912002563\n",
      "450 14.533815145492554\n",
      "475 15.230805158615112\n",
      "--- 16.10602855682373 seconds ---\n"
     ]
    }
   ],
   "source": [
    "# %load ../edp_2d.py\n",
    "import matplotlib.pyplot as plt\n",
    "import numpy as np\n",
    "import scipy.sparse as sp\n",
    "from scipy.sparse.linalg.dsolve import spsolve\n",
    "from scipy.sparse.linalg import bicgstab, bicg, cg, cgs, gmres, lgmres, minres, qmr, gcrotmk\n",
    "import matplotlib.animation as animation\n",
    "from IPython.display import HTML\n",
    "\n",
    "import time\n",
    "start_time = time.time()\n",
    "\n",
    "#Coéfficients physiques\n",
    "K=.4 #coefficient diffusion\n",
    "b=.2# dtC=-b*rho*C\n",
    "F0= 1 # dtRho = Fo*Mu\n",
    "\n",
    "physique = [K,b,F0]\n",
    "\n",
    "#Paramêtres numériques \n",
    "n_t=500 #nombre de pas de temps\n",
    "tf=140 # temps final de la simulation\n",
    "xf = 500 #longueur de la simulation\n",
    "n_x = 400 #nombres de points de la simulation\n",
    "yf = xf\n",
    "n_y = n_x \n",
    "n_xy = n_x * n_y\n",
    "numerique = [n_t,tf,xf,n_x,yf,n_y]\n",
    "\n",
    "params = physique,numerique\n",
    "\n",
    "\n",
    "#Données initiales \n",
    "rho0=np.zeros(n_xy) #rho initial\t\n",
    "mu0=np.zeros(n_xy)#mu initial\n",
    "mu0[((n_xy+n_x)//2):((n_xy+n_x)//2)+1]=.01\n",
    "c0=np.zeros(n_xy) +1 #concentration initiale\n",
    "\n",
    "xm = 200\n",
    "xM = 300\n",
    "ym = 120\n",
    "yM = 220\n",
    "im = ((xm*n_x)//xf)\n",
    "iM = ((xM*n_x)//xf)\n",
    "jm = ((ym*n_y)//xf)\n",
    "jM = ((yM*n_y)//xf)\n",
    "for i in range(im,iM):\n",
    "    for j in range(jm,jM):\n",
    "        c0[i+j*n_x] = 0.\n",
    "        \n",
    "class EDP():\n",
    "    def __init__(self,params):\n",
    "        self.physique, self.numerique = params\n",
    "        self.K,self.b,self.F0 = self.physique\n",
    "        self.n_t,self.tf,self.xf,self.n_x,self.yf,self.n_y = self.numerique\n",
    "        \n",
    "        \n",
    "        self.n_xy = self.n_x*self.n_y\n",
    "        self.dt = self.tf/(self.n_t-1)\n",
    "        self.dx = self.xf/(self.n_x-1)\n",
    "        self.dy = self.yf/(self.n_y-1)\n",
    "        \n",
    "        #self.X = np.linspace(0,self.xf,self.n_x)\n",
    "        #self.Y = np.linspace(0,self.yf,self.n_y)\n",
    "        #self.T = np.linspace(0,self.tf,self.n_t)\n",
    "\n",
    "        #Matrice du Laplacien\n",
    "        self.Lapl = sp.diags(-4*np.ones(self.n_xy),0)\n",
    "        #Lapl += sp.diags(np.ones(n_xy-1),1)+sp.diags(np.ones(n_xy-1),-1)\n",
    "        diagmod = np.ones(self.n_xy-1)\n",
    "        diagmod[np.arange(self.n_y-1,self.n_xy-1,self.n_y)] = np.zeros(self.n_y-1)\n",
    "        self.Lapl += sp.diags(diagmod,1) + sp.diags(diagmod,-1)\n",
    "        self.Lapl += sp.diags(np.ones(self.n_xy-self.n_y),self.n_y)+sp.diags(np.ones(self.n_xy-self.n_y),-self.n_y)\n",
    "        self.Lapl = -self.K*self.dt/(self.dx**2)*self.Lapl\n",
    "        self.Cond = sp.identity(self.n_xy)\n",
    "    def array_to_2D(n_x,vect):\n",
    "        return np.array(np.split(vect,n_x))\n",
    "\n",
    "    def integrate(self,initial):\n",
    "        mu,rho,c = initial\n",
    "        alpha=-c*self.dt*(1+self.dt*self.F0)+self.dt*rho+1\n",
    "        A = self.Lapl + sp.diags(alpha,0)\n",
    "        Target =  mu+self.dt*c*rho\n",
    "        \n",
    "        #next_mu = spsolve(A,Target) #95.28 secondes d'execution\n",
    "        #next_mu,check = bicg(A,Target) #3.38 secondes d'execution\n",
    "        #next_mu,check = bicgstab(A,Target, x0=mu) #2.15 secondes d'execution\n",
    "        #next_mu,check = cg(A,Target) #2.29 secondes d'execution\n",
    "        #next_mu,check = cgs(A,Target) #2.36 secondes d'execution\n",
    "        #next_mu,check = gmres(A,Target) #2.72 secondes d'execution\n",
    "        #next_mu,check = lgmres(A,Target) #2.62 secondes d'execution\n",
    "        next_mu,check = minres(A,Target, x0=mu, M=self.Cond) #2.15 secondes d'execution\n",
    "        #next_mu,check = qmr(A,Target) #3.70 secondes d'execution\n",
    "        #next_mu,check = gcrotmk(A,Target) #2.62 secondes d'execution\n",
    "        next_rho = rho + self.dt*self.F0*next_mu\n",
    "        next_c = c/(1+self.b*self.dt*next_rho)\n",
    "        return next_mu, next_rho, next_c\n",
    "        \n",
    "        \n",
    "Agent = EDP(params)\n",
    "\n",
    "mu= mu0\n",
    "rho= rho0\n",
    "c= c0\n",
    "Mu=[mu0]\n",
    "Rho=[rho0]\n",
    "C=[c0]\n",
    "n = 0\n",
    "step = 5\n",
    "while n<n_t:\n",
    "    mu,rho,c = Agent.integrate((mu,rho,c)) \n",
    "    if n % step ==0 :\n",
    "        Mu.append(mu)\n",
    "        Rho.append(rho)\n",
    "        C.append(c)\n",
    "    if n % 25 ==0 :\n",
    "        print(n, (time.time() - start_time))\n",
    "    n+=1\n",
    "\n",
    "print(\"--- %s seconds ---\" % (time.time() - start_time))\n",
    "\n",
    "tot = len(Mu)"
   ]
  },
  {
   "cell_type": "code",
   "execution_count": 2,
   "metadata": {},
   "outputs": [],
   "source": [
    "fps = 10 # frame per sec\n",
    "frn = tot # frame number of the animation\n",
    "\n",
    "X = np.linspace(0,xf,n_x)\n",
    "x, y = np.meshgrid(X, X)\n",
    "muarray = np.zeros((n_x, n_x, frn))\n",
    "rhoarray =  np.zeros((n_x, n_x, frn))\n",
    "\n",
    "f = lambda x,y,sig : 1/np.sqrt(sig)*np.exp(-(x**2+y**2)/sig**2)\n",
    "\n",
    "for i in range(frn):\n",
    "    muarray[:,:,i] = EDP.array_to_2D(n_x,Mu[i])\n",
    "    rhoarray[:,:,i] =  EDP.array_to_2D(n_x,Rho[i])"
   ]
  },
  {
   "cell_type": "code",
   "execution_count": 3,
   "metadata": {},
   "outputs": [
    {
     "name": "stdout",
     "output_type": "stream",
     "text": [
      "numpy: 1.16.3\n",
      "matplotlib: 2.1.1\n"
     ]
    }
   ],
   "source": [
    "import numpy as np\n",
    "print('numpy: '+np.version.full_version)\n",
    "import matplotlib.pyplot as plt\n",
    "from mpl_toolkits.mplot3d import Axes3D \n",
    "import matplotlib.animation as animation\n",
    "import matplotlib\n",
    "print('matplotlib: '+matplotlib.__version__)"
   ]
  },
  {
   "cell_type": "code",
   "execution_count": 1,
   "metadata": {},
   "outputs": [
    {
     "ename": "NameError",
     "evalue": "name 'plt' is not defined",
     "output_type": "error",
     "traceback": [
      "\u001b[0;31m---------------------------------------------------------------------------\u001b[0m",
      "\u001b[0;31mNameError\u001b[0m                                 Traceback (most recent call last)",
      "\u001b[0;32m<ipython-input-1-67a7827b9d84>\u001b[0m in \u001b[0;36m<module>\u001b[0;34m\u001b[0m\n\u001b[1;32m      3\u001b[0m     \u001b[0mplot\u001b[0m\u001b[0;34m[\u001b[0m\u001b[0;36m0\u001b[0m\u001b[0;34m]\u001b[0m \u001b[0;34m=\u001b[0m \u001b[0max\u001b[0m\u001b[0;34m.\u001b[0m\u001b[0mplot_surface\u001b[0m\u001b[0;34m(\u001b[0m\u001b[0mx\u001b[0m\u001b[0;34m,\u001b[0m \u001b[0my\u001b[0m\u001b[0;34m,\u001b[0m \u001b[0mmuarray\u001b[0m\u001b[0;34m[\u001b[0m\u001b[0;34m:\u001b[0m\u001b[0;34m,\u001b[0m\u001b[0;34m:\u001b[0m\u001b[0;34m,\u001b[0m\u001b[0mframe_number\u001b[0m\u001b[0;34m]\u001b[0m\u001b[0;34m,\u001b[0m \u001b[0mcmap\u001b[0m\u001b[0;34m=\u001b[0m\u001b[0;34m\"magma\"\u001b[0m\u001b[0;34m)\u001b[0m\u001b[0;34m\u001b[0m\u001b[0;34m\u001b[0m\u001b[0m\n\u001b[1;32m      4\u001b[0m \u001b[0;34m\u001b[0m\u001b[0m\n\u001b[0;32m----> 5\u001b[0;31m \u001b[0mfig\u001b[0m \u001b[0;34m=\u001b[0m \u001b[0mplt\u001b[0m\u001b[0;34m.\u001b[0m\u001b[0mfigure\u001b[0m\u001b[0;34m(\u001b[0m\u001b[0;34m)\u001b[0m\u001b[0;34m\u001b[0m\u001b[0;34m\u001b[0m\u001b[0m\n\u001b[0m\u001b[1;32m      6\u001b[0m \u001b[0max\u001b[0m \u001b[0;34m=\u001b[0m \u001b[0mfig\u001b[0m\u001b[0;34m.\u001b[0m\u001b[0madd_subplot\u001b[0m\u001b[0;34m(\u001b[0m\u001b[0;36m111\u001b[0m\u001b[0;34m,\u001b[0m \u001b[0mprojection\u001b[0m\u001b[0;34m=\u001b[0m\u001b[0;34m'3d'\u001b[0m\u001b[0;34m)\u001b[0m\u001b[0;34m\u001b[0m\u001b[0;34m\u001b[0m\u001b[0m\n\u001b[1;32m      7\u001b[0m \u001b[0;34m\u001b[0m\u001b[0m\n",
      "\u001b[0;31mNameError\u001b[0m: name 'plt' is not defined"
     ]
    }
   ],
   "source": [
    "def update_plot(frame_number, zarray, plot):\n",
    "    plot[0].remove()\n",
    "    plot[0] = ax.plot_surface(x, y, muarray[:,:,frame_number], cmap=\"magma\")\n",
    "\n",
    "fig = plt.figure()\n",
    "ax = fig.add_subplot(111, projection='3d')\n",
    "\n",
    "plot = [ax.plot_surface(x, y, zarray[:,:,0], color='0.75', rstride=1, cstride=1)]\n",
    "ax.set_zlim(0,2)\n",
    "ani = animation.FuncAnimation(fig, update_plot, frn, fargs=(muarray, plot), interval=1000/fps)"
   ]
  },
  {
   "cell_type": "code",
   "execution_count": null,
   "metadata": {
    "scrolled": true
   },
   "outputs": [],
   "source": [
    "HTML(ani.to_jshtml())"
   ]
  },
  {
   "cell_type": "code",
   "execution_count": null,
   "metadata": {},
   "outputs": [],
   "source": [
    "def update_plot(frame_number, zarray, plot):\n",
    "    plot[0].remove()\n",
    "    plot[0] = ax.plot_surface(x, y, rhoarray[:,:,frame_number], cmap=\"magma\")\n",
    "\n",
    "fig = plt.figure()\n",
    "ax = fig.add_subplot(111, projection='3d')\n",
    "\n",
    "plot = [ax.plot_surface(x, y, zarray[:,:,0], color='0.75', rstride=1, cstride=1)]\n",
    "ax.set_zlim(0,5)\n",
    "ani = animation.FuncAnimation(fig, update_plot, frn, fargs=(rhoarray, plot), interval=1000/fps)"
   ]
  },
  {
   "cell_type": "code",
   "execution_count": null,
   "metadata": {},
   "outputs": [],
   "source": [
    "HTML(ani.to_jshtml())"
   ]
  }
 ],
 "metadata": {
  "kernelspec": {
   "display_name": "Python 3",
   "language": "python",
   "name": "python3"
  },
  "language_info": {
   "codemirror_mode": {
    "name": "ipython",
    "version": 3
   },
   "file_extension": ".py",
   "mimetype": "text/x-python",
   "name": "python",
   "nbconvert_exporter": "python",
   "pygments_lexer": "ipython3",
   "version": "3.7.3"
  }
 },
 "nbformat": 4,
 "nbformat_minor": 2
}
