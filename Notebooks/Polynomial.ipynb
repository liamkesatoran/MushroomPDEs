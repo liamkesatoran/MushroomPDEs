{
 "cells": [
  {
   "cell_type": "code",
   "execution_count": 1,
   "metadata": {},
   "outputs": [],
   "source": [
    "import matplotlib.pyplot as plt\n",
    "from mpl_toolkits.mplot3d import Axes3D \n",
    "import matplotlib.animation as animation\n",
    "import numpy as np\n",
    "import scipy.sparse as sp\n",
    "from scipy.sparse.linalg.dsolve import spsolve\n",
    "from scipy.sparse.linalg import bicgstab, bicg, cg, cgs, gmres, lgmres, minres, qmr, gcrotmk\n",
    "from IPython.display import HTML\n",
    "import time\n",
    "#%matplotlib inline"
   ]
  },
  {
   "cell_type": "code",
   "execution_count": 2,
   "metadata": {},
   "outputs": [],
   "source": [
    "def coeffs_P3(lbda,F0,f0,T):\n",
    "    a = (lbda+f0)/T\n",
    "    b = (f0**2+lbda*f0 -f0*F0)/T\n",
    "    c = -F0*f0*(lbda+2*f0)/T\n",
    "    d = (F0*f0)**2\n",
    "    return [a,b,c,d]\n",
    "\n",
    "def plot_roots():\n",
    "    X =[]\n",
    "    for n in np.linspace(0,20,10000):\n",
    "        s = n/2\n",
    "        roots = np.roots([1]+[s**2*x for x in coeffs_P3(lbda,F0,f0,T)])\n",
    "        roots = roots[np.isreal(roots)]\n",
    "        for i in range(len(roots)):\n",
    "            X+=[[s,roots[i]]]\n",
    "\n",
    "    fig=plt.figure(figsize=(18, 16), dpi= 80, facecolor='w', edgecolor='k')\n",
    "    S = []\n",
    "    Root = []\n",
    "    for i in range(len(X)):\n",
    "        S += [X[i][0]]\n",
    "        Root += [X[i][1]]\n",
    "    plt.figsize=(3,3)\n",
    "    plt.axis((0,10,-5,1))\n",
    "    plt.scatter(S,Root,marker='.')"
   ]
  },
  {
   "cell_type": "code",
   "execution_count": null,
   "metadata": {},
   "outputs": [],
   "source": [
    "def coeff_Q(lbda,F0,f0,T):\n",
    "    "
   ]
  },
  {
   "cell_type": "code",
   "execution_count": null,
   "metadata": {},
   "outputs": [],
   "source": [
    "lbda, F0, f0, T = 1,1,1,1\n",
    "plot_roots()"
   ]
  }
 ],
 "metadata": {
  "kernelspec": {
   "display_name": "Python 3",
   "language": "python",
   "name": "python3"
  },
  "language_info": {
   "codemirror_mode": {
    "name": "ipython",
    "version": 3
   },
   "file_extension": ".py",
   "mimetype": "text/x-python",
   "name": "python",
   "nbconvert_exporter": "python",
   "pygments_lexer": "ipython3",
   "version": "3.7.3"
  }
 },
 "nbformat": 4,
 "nbformat_minor": 2
}
