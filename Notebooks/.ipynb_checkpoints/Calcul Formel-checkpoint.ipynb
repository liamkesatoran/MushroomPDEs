{
 "cells": [
  {
   "cell_type": "code",
   "execution_count": 27,
   "metadata": {},
   "outputs": [],
   "source": [
    "from sympy import init_printing, Symbol, expand"
   ]
  },
  {
   "cell_type": "code",
   "execution_count": 28,
   "metadata": {},
   "outputs": [],
   "source": [
    "init_printing()"
   ]
  },
  {
   "cell_type": "code",
   "execution_count": 29,
   "metadata": {},
   "outputs": [],
   "source": [
    "lbda = Symbol('\\lambda')\n",
    "f = Symbol('f_0')\n",
    "F = Symbol('F_0')"
   ]
  },
  {
   "cell_type": "code",
   "execution_count": 30,
   "metadata": {},
   "outputs": [],
   "source": [
    "a = (lbda+f)\n",
    "b = 2*f*(f+lbda-F)\n",
    "c = -3*F*f*(lbda + 2*f)\n",
    "d = 4*(f*F)**2"
   ]
  },
  {
   "cell_type": "code",
   "execution_count": 31,
   "metadata": {},
   "outputs": [],
   "source": [
    "Delta = b**2*c**2 + 18*a*b*c*d -27*a**2*d**2 -4*a*c**3 -4*b**3*d"
   ]
  },
  {
   "cell_type": "code",
   "execution_count": 32,
   "metadata": {
    "scrolled": true
   },
   "outputs": [
    {
     "data": {
      "image/png": "[encoded data removed]",
      "text/latex": [
       "$\\displaystyle 128 F_{0}^{5} f_{0}^{5} + 36 F_{0}^{4} \\lambda^{2} f_{0}^{4} + 192 F_{0}^{4} \\lambda f_{0}^{5} + 192 F_{0}^{4} f_{0}^{6} + 108 F_{0}^{3} \\lambda^{4} f_{0}^{3} + 252 F_{0}^{3} \\lambda^{3} f_{0}^{4} + 240 F_{0}^{3} \\lambda^{2} f_{0}^{5} + 192 F_{0}^{3} \\lambda f_{0}^{6} + 96 F_{0}^{3} f_{0}^{7} + 36 F_{0}^{2} \\lambda^{4} f_{0}^{4} + 88 F_{0}^{2} \\lambda^{3} f_{0}^{5} + 84 F_{0}^{2} \\lambda^{2} f_{0}^{6} + 48 F_{0}^{2} \\lambda f_{0}^{7} + 16 F_{0}^{2} f_{0}^{8}$"
      ],
      "text/plain": [
       "      5   5        4        2   4         4           5         4   6         \n",
       "128⋅F₀ ⋅f₀  + 36⋅F₀ ⋅\\lambda ⋅f₀  + 192⋅F₀ ⋅\\lambda⋅f₀  + 192⋅F₀ ⋅f₀  + 108⋅F₀\n",
       "\n",
       "3        4   3         3        3   4         3        2   5         3        \n",
       " ⋅\\lambda ⋅f₀  + 252⋅F₀ ⋅\\lambda ⋅f₀  + 240⋅F₀ ⋅\\lambda ⋅f₀  + 192⋅F₀ ⋅\\lambda\n",
       "\n",
       "   6        3   7        2        4   4        2        3   5        2        \n",
       "⋅f₀  + 96⋅F₀ ⋅f₀  + 36⋅F₀ ⋅\\lambda ⋅f₀  + 88⋅F₀ ⋅\\lambda ⋅f₀  + 84⋅F₀ ⋅\\lambda\n",
       "\n",
       "2   6        2           7        2   8\n",
       " ⋅f₀  + 48⋅F₀ ⋅\\lambda⋅f₀  + 16⋅F₀ ⋅f₀ "
      ]
     },
     "execution_count": 32,
     "metadata": {},
     "output_type": "execute_result"
    }
   ],
   "source": [
    "Delta.expand()"
   ]
  }
 ],
 "metadata": {
  "kernelspec": {
   "display_name": "Python 3",
   "language": "python",
   "name": "python3"
  },
  "language_info": {
   "codemirror_mode": {
    "name": "ipython",
    "version": 3
   },
   "file_extension": ".py",
   "mimetype": "text/x-python",
   "name": "python",
   "nbconvert_exporter": "python",
   "pygments_lexer": "ipython3",
   "version": "3.7.3"
  }
 },
 "nbformat": 4,
 "nbformat_minor": 2
}
