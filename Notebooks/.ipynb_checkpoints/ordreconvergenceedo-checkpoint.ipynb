{
 "cells": [
  {
   "cell_type": "code",
   "execution_count": 1,
   "metadata": {},
   "outputs": [],
   "source": [
    "%matplotlib inline"
   ]
  },
  {
   "cell_type": "code",
   "execution_count": 15,
   "metadata": {
    "scrolled": false
   },
   "outputs": [
    {
     "data": {
      "text/plain": [
       "Text(0,0.5,'C')"
      ]
     },
     "execution_count": 15,
     "metadata": {},
     "output_type": "execute_result"
    },
    {
     "data": {
      "image/png": "[encoded data removed]",
      "text/plain": [
       "<matplotlib.figure.Figure at 0x7ff95f249668>"
      ]
     },
     "metadata": {
      "needs_background": "light"
     },
     "output_type": "display_data"
    }
   ],
   "source": [
    "# %load edo.py\n",
    "import matplotlib.pyplot as plt\n",
    "from scipy.integrate import ode\n",
    "import numpy as np\n",
    "\n",
    "b=.5 # dtC=-b*rho*C\n",
    "F0=1 # dtRho = Fo*Mu\n",
    "tf=10 # temps final de la simulation\n",
    "rho0=0 #rho initial\t\n",
    "mu0=.1 #mu initial\n",
    "c0=1 #concentration initiale\n",
    "n=500000 #nombre de pas de temps\n",
    "\n",
    "#Résolution du schéma éxplicite\n",
    "def euler_explicite_edo(b, F0, tf, rho0, mu0, c0, n):\n",
    "\t#t0<t1 , temps etudies,\n",
    "\t#rho0, mu0,c0 reels positifs: condition initiale\n",
    "\t#n entier(nombre d'iterations)\n",
    "\th=tf/n #pas Deltat\n",
    "\trho=rho0\n",
    "\tmu=mu0\n",
    "\tc=c0\n",
    "\tt=0\n",
    "\tRho=[rho0]\n",
    "\tMu=[mu0]\n",
    "\tC=[c0]\n",
    "\tT=[t]\n",
    "\tfor k in range(n):\n",
    "\t\tnew_mu = mu + h*(c*(mu+rho)-mu*rho)\n",
    "\t\tnew_rho = rho + h*F0*mu\n",
    "\t\tnew_c = c - h*b*rho*c\n",
    "\t\tmu=new_mu\n",
    "\t\trho=new_rho\n",
    "\t\tc=new_c\n",
    "\t\tt=t+h\n",
    "\t\tMu.append(new_mu)\n",
    "\t\tRho.append(new_rho)\n",
    "\t\tC.append(new_c)\n",
    "\t\tT.append(t)\n",
    "\treturn T,Mu,Rho,C\n",
    "\n",
    "#Résolution du schéma semi- implicite I\n",
    "def euler_semi_I_edo(b, F0, tf, rho0, mu0, c0, n):\n",
    "\t#t0<t1 , temps etudies,\n",
    "\t#rho0, mu0,c0 reels positifs: condition initiale\n",
    "\t#n entier(nombre d'iterations)\n",
    "\th=tf/n #pas Deltat\n",
    "\trho=rho0\n",
    "\tmu=mu0\n",
    "\tc=c0\n",
    "\tt=0\n",
    "\tRho=[rho0]\n",
    "\tMu=[mu0]\n",
    "\tC=[c0]\n",
    "\tT=[0]\n",
    "\tfor k in range(n):\n",
    "\t\tnew_mu = (mu + h*c*rho)/(1+h*rho-h*c*(1+h*F0))\n",
    "\t\tnew_rho = rho + h*F0*new_mu\n",
    "\t\tnew_c = c/(1 + b*h*new_rho)\n",
    "\t\tmu=new_mu\n",
    "\t\trho=new_rho\n",
    "\t\tc=new_c\n",
    "\t\tt=t+h\n",
    "\t\tMu.append(new_mu)\n",
    "\t\tRho.append(new_rho)\n",
    "\t\tC.append(new_c)\n",
    "\t\tT.append(t)\n",
    "\treturn T,Mu,Rho,C\n",
    "\n",
    "#Résolution du schéma semi- implicite II\n",
    "def euler_semi_II_edo(b, F0, tf, rho0, mu0, c0, n):\n",
    "\t#t0<t1 , temps etudies,\n",
    "\t#rho0, mu0,c0 reels positifs: condition initiale\n",
    "\t#n entier(nombre d'iterations)\n",
    "\tt=0\n",
    "\th=tf/n #pas Deltat\n",
    "\trho=rho0\n",
    "\tmu=mu0\n",
    "\tc=c0\n",
    "\tRho=[rho0]\n",
    "\tMu=[mu0]\n",
    "\tC=[c0]\n",
    "\tT=[0]\n",
    "\tfor k in range(n):\n",
    "\t\tnew_mu = (mu + h*c*rho-h*rho*mu)/(1-h*c*(1+h*F0))\n",
    "\t\tnew_rho = rho + h*F0*new_mu\n",
    "\t\tnew_c = c/(1 + b*h*new_rho)\n",
    "\t\tmu=new_mu\n",
    "\t\trho=new_rho\n",
    "\t\tc=new_c\n",
    "\t\tt=t+h\n",
    "\t\tMu.append(new_mu)\n",
    "\t\tRho.append(new_rho)\n",
    "\t\tC.append(new_c)\n",
    "\t\tT.append(t)\n",
    "\treturn T,Mu,Rho,C\t\n",
    "\n",
    "#Programmation de la méthode de Newton-Raphson\n",
    "def newton(f,gradf,newton_steps,x0):\n",
    "\tx=x0\n",
    "\tfor k in range(newton_steps):\n",
    "\t\tx=x-f(x)/gradf(x)\n",
    "\treturn x\n",
    "\n",
    "#Résolution du schéma implicite\n",
    "def euler_implicite_edo(b, F0, tf, rho0, mu0, c0, n):\n",
    "\t#t0<t1 , temps etudiés,\n",
    "\t#rho0, mu0,c0 reels positifs: conditions initiale\n",
    "\t#n entier(nombre d'itérations)\n",
    "\tt=0\n",
    "\tnewton_steps=10 #nombre d'itérations de la méthode de Newton-Raphson pour le calcul implicite\n",
    "\th=tf/n #pas deltat\n",
    "\trho=rho0\n",
    "\tmu=mu0\n",
    "\tc=c0\n",
    "\tRho=[rho0]\n",
    "\tMu=[mu0]\n",
    "\tC=[c0]\n",
    "\tT=[0]\n",
    "\tfor k in range(n):\n",
    "\t\t#Calcul de new_mu par methode de Newton Raphson\n",
    "\t\t#coefficients du polynome d'ordre 3 en new_mu\n",
    "\t\talpha = -h**4*F0**2*b\n",
    "\t\tbeta= -F0*h**2*(b+1+2*rho*b*h)\n",
    "\t\tgamma= -(1+b*h*rho)+b*h**2*F0*mu+h*(c*(1+h*F0)-rho*(1+b*h*rho))\n",
    "\t\tdelta=(1+b*h*rho)*mu + h*c*rho\n",
    "\t\tdef P(X):\n",
    "\t\t\treturn alpha*X**3+beta*X**2+gamma*X+delta\n",
    "\t\tdef gradP(X):\n",
    "\t\t\treturn 3*alpha*X**2+2*beta*X+gamma\n",
    "\t\tnew_mu=newton(P,gradP,newton_steps,mu)\n",
    "\t\tnew_rho = rho + h*F0*new_mu\n",
    "\t\tnew_c = c/(1 + b*h*new_rho)\n",
    "\t\tmu=new_mu\n",
    "\t\trho=new_rho\n",
    "\t\tc=new_c\n",
    "\t\tt=t+h\n",
    "\t\tMu.append(new_mu)\n",
    "\t\tRho.append(new_rho)\n",
    "\t\tC.append(new_c)\n",
    "\t\tT.append(t)\n",
    "\treturn T,Mu,Rho,C\n",
    "    \n",
    "#Utilisation des libraries python (scipy) pour résoudre l'EDO\n",
    "def black_box_edo(b, F0, tf, rho0, mu0, c0, n):\n",
    "    def f(t,y,arg1,arg2):\n",
    "        mu=y[0]\n",
    "        rho=y[1]\n",
    "        c=y[2]\n",
    "        return [c*(rho+mu)-mu*rho, F0*mu, -b*rho*c]\n",
    "\n",
    "    r = ode(f).set_integrator('zvode', method='adams')\n",
    "    r.set_initial_value([mu0,rho0,c0],0).set_f_params(F0,b)\n",
    "    dt=tf/(n-1)\n",
    "    Rho=[rho0]\n",
    "    Mu=[mu0]\n",
    "    C=[c0]\n",
    "    t=0\n",
    "    T=[0]\n",
    "    while r.t < tf:\n",
    "        mu,rho,c = r.integrate(r.t+dt)\n",
    "        Mu.append(mu)\n",
    "        Rho.append(rho)\n",
    "        C.append(c)\n",
    "        T.append(r.t)\n",
    "    return T,Mu,Rho,C\n",
    "\n",
    "#Résolution\t\n",
    "T,Mu,Rho,C = black_box_edo(b, F0, tf, rho0, mu0, c0, n)\n",
    "rho_inf= Rho[n-1]\n",
    "#rho_theorique = np.sqrt(2*(c0/b + F0*mu0))\n",
    "#print(1-rho_theorique/rho_inf)\n",
    "TT, MMu,RRho,CC = [],[],[],[]\n",
    "\n",
    "for i in range(100):\n",
    "    t, m, r, c =  euler_semi_I_edo(b, F0, tf, rho0, mu0, c0, 100+i*100)\n",
    "    TT.append(t)\n",
    "    MMu.append(m)\n",
    "    RRho.append(r)\n",
    "    CC.append(c)\n",
    "\n",
    "\n",
    "#Tracé des solutions et de l'étude asymptotique\n",
    "plt.subplot(221)\n",
    "plt.plot(T,Mu)\n",
    "plt.ylabel('mu')\n",
    "plt.xlabel('t')\n",
    "plt.subplot(222)\n",
    "plt.plot(T,Rho)\n",
    "plt.ylabel('rho')\n",
    "plt.subplot(223)\n",
    "plt.plot(T,C)\n",
    "plt.ylabel('C')\n"
   ]
  },
  {
   "cell_type": "code",
   "execution_count": 19,
   "metadata": {},
   "outputs": [
    {
     "data": {
      "text/plain": [
       "<matplotlib.legend.Legend at 0x7ff95f2a4dd8>"
      ]
     },
     "execution_count": 19,
     "metadata": {},
     "output_type": "execute_result"
    },
    {
     "data": {
      "image/png": "[encoded data removed]",
      "text/plain": [
       "<matplotlib.figure.Figure at 0x7ff966c241d0>"
      ]
     },
     "metadata": {
      "needs_background": "light"
     },
     "output_type": "display_data"
    }
   ],
   "source": [
    "#Étude Asymptotique\n",
    "A=[np.log(mu) for mu in Mu]\n",
    "B=[-min(1,b)*y*rho_inf for y in T]\n",
    "\n",
    "plt.plot(T,A)\n",
    "plt.plot(T,B)\n",
    "plt.xlabel('time')\n",
    "plt.gca().legend(('log(mu)','$-\\min(1,b)*t*rho_{\\infty}$'))"
   ]
  },
  {
   "cell_type": "code",
   "execution_count": 3,
   "metadata": {},
   "outputs": [
    {
     "data": {
      "image/png": "[encoded data removed]",
      "text/plain": [
       "<matplotlib.figure.Figure at 0x7ff95cb06470>"
      ]
     },
     "metadata": {
      "needs_background": "light"
     },
     "output_type": "display_data"
    }
   ],
   "source": [
    "for i in range(1,20):\n",
    "    plt.plot(TT[i*5],RRho[i*5])\n",
    "plt.show()"
   ]
  },
  {
   "cell_type": "code",
   "execution_count": 4,
   "metadata": {},
   "outputs": [
    {
     "name": "stdout",
     "output_type": "stream",
     "text": [
      "The history saving thread hit an unexpected error (OperationalError('disk I/O error',)).History will not be written to the database.\n"
     ]
    }
   ],
   "source": [
    "NR = []\n",
    "for i in range(100):\n",
    "    NR.append(np.interp(T,TT[i],RRho[i]))"
   ]
  },
  {
   "cell_type": "code",
   "execution_count": 7,
   "metadata": {},
   "outputs": [],
   "source": [
    "Err = []\n",
    "for i in range(100):\n",
    "    Err.append(np.max(np.abs(NR[i]-np.array(Rho))))"
   ]
  },
  {
   "cell_type": "code",
   "execution_count": 8,
   "metadata": {},
   "outputs": [
    {
     "name": "stdout",
     "output_type": "stream",
     "text": [
      "la convergence est d'ordre 1.0076968225756935 en norme infinie\n",
      "avec R²= 0.9999611443085982\n"
     ]
    }
   ],
   "source": [
    "X = np.log(np.linspace(1,100,100))\n",
    "Y = np.log(Err)\n",
    "xbar = np.average(X)\n",
    "ybar = np.average(Y)\n",
    "alpha = np.sum((X-xbar)*(Y-ybar))/np.sum((X-xbar)**2)\n",
    "beta = ybar - alpha*xbar\n",
    "Yhat = alpha*X + beta\n",
    "R2 = 1 - np.sum((Y-Yhat)**2)/np.sum((Y-ybar)**2)\n",
    "print('la convergence est d\\'ordre', -alpha.real, 'en norme infinie')\n",
    "print('avec R²=', R2.real)"
   ]
  },
  {
   "cell_type": "code",
   "execution_count": 14,
   "metadata": {
    "scrolled": true
   },
   "outputs": [
    {
     "data": {
      "text/plain": [
       "<matplotlib.legend.Legend at 0x7ff95eee7b38>"
      ]
     },
     "execution_count": 14,
     "metadata": {},
     "output_type": "execute_result"
    },
    {
     "data": {
      "image/png": "[encoded data removed]",
      "text/plain": [
       "<matplotlib.figure.Figure at 0x7ff95ca8afd0>"
      ]
     },
     "metadata": {
      "needs_background": "light"
     },
     "output_type": "display_data"
    }
   ],
   "source": [
    "plt.plot(X,Y)\n",
    "plt.plot(X,-X)\n",
    "plt.xlabel('$\\log(\\Delta t)$')\n",
    "plt.gca().legend(('log(error)','-$\\log(\\Delta t)$'))"
   ]
  },
  {
   "cell_type": "code",
   "execution_count": null,
   "metadata": {},
   "outputs": [],
   "source": []
  }
 ],
 "metadata": {
  "kernelspec": {
   "display_name": "Python 3",
   "language": "python",
   "name": "python3"
  },
  "language_info": {
   "codemirror_mode": {
    "name": "ipython",
    "version": 3
   },
   "file_extension": ".py",
   "mimetype": "text/x-python",
   "name": "python",
   "nbconvert_exporter": "python",
   "pygments_lexer": "ipython3",
   "version": "3.6.7"
  }
 },
 "nbformat": 4,
 "nbformat_minor": 2
}
